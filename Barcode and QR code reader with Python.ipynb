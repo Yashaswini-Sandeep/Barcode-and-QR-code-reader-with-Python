{
 "cells": [
  {
   "cell_type": "code",
   "execution_count": 1,
   "metadata": {},
   "outputs": [
    {
     "name": "stdout",
     "output_type": "stream",
     "text": [
      "Defaulting to user installation because normal site-packages is not writeable\n",
      "Requirement already satisfied: pyzbar in c:\\users\\yashaswini sandeep\\appdata\\roaming\\python\\python312\\site-packages (0.1.9)\n",
      "Note: you may need to restart the kernel to use updated packages.\n"
     ]
    }
   ],
   "source": [
    "pip install pyzbar"
   ]
  },
  {
   "cell_type": "code",
   "execution_count": 2,
   "metadata": {},
   "outputs": [
    {
     "name": "stdout",
     "output_type": "stream",
     "text": [
      "Defaulting to user installation because normal site-packages is not writeable\n",
      "Requirement already satisfied: opencv-python in c:\\users\\yashaswini sandeep\\appdata\\roaming\\python\\python312\\site-packages (4.10.0.82)\n",
      "Requirement already satisfied: numpy>=1.21.2 in c:\\users\\yashaswini sandeep\\appdata\\roaming\\python\\python312\\site-packages (from opencv-python) (1.26.4)\n",
      "Note: you may need to restart the kernel to use updated packages.\n"
     ]
    }
   ],
   "source": [
    "pip install opencv-python"
   ]
  },
  {
   "cell_type": "code",
   "execution_count": 3,
   "metadata": {},
   "outputs": [],
   "source": [
    "import cv2 \n",
    "from pyzbar.pyzbar import decode"
   ]
  },
  {
   "cell_type": "code",
   "execution_count": 13,
   "metadata": {},
   "outputs": [
    {
     "name": "stdout",
     "output_type": "stream",
     "text": [
      "Barcode Not Detected or your barcode is blank/corrupted!\n"
     ]
    }
   ],
   "source": [
    "# Importing library \n",
    "import cv2 \n",
    "from pyzbar.pyzbar import decode \n",
    "   \n",
    "# Make one method to decode the barcode  \n",
    "def BarcodeReader(image): \n",
    "      \n",
    "    # read the image in numpy array using cv2 \n",
    "    img = cv2.imread(image) \n",
    "       \n",
    "    # Decode the barcode image \n",
    "    detectedBarcodes = decode(img) \n",
    "       \n",
    "    # If not detected then print the message \n",
    "    if not detectedBarcodes: \n",
    "        print(\"Barcode Not Detected or your barcode is blank/corrupted!\") \n",
    "    else: \n",
    "        \n",
    "          # Traverse through all the detected barcodes in image \n",
    "        for barcode in detectedBarcodes:   \n",
    "            \n",
    "            # Locate the barcode position in image \n",
    "            (x, y, w, h) = barcode.rect \n",
    "              \n",
    "            # Put the rectangle in image using  \n",
    "            # cv2 to highlight the barcode \n",
    "            cv2.rectangle(img, (x-10, y-10), \n",
    "                          (x + w+10, y + h+10),  \n",
    "                          (255, 0, 0), 2)  \n",
    "              \n",
    "            if barcode.data!=\"\": \n",
    "                \n",
    "            # Print the barcode data \n",
    "                print(barcode.data) \n",
    "                print(barcode.type) \n",
    "                  \n",
    "    #Display the image \n",
    "    cv2.imshow(\"Ticket Barcode\", img) \n",
    "    cv2.waitKey(0) \n",
    "    cv2.destroyAllWindows() \n",
    "  \n",
    "if __name__ == \"__main__\": \n",
    "  # Take the image from user \n",
    "    image=\"Barcode2.jpg\"\n",
    "    BarcodeReader(image) "
   ]
  },
  {
   "cell_type": "code",
   "execution_count": null,
   "metadata": {},
   "outputs": [],
   "source": []
  }
 ],
 "metadata": {
  "kernelspec": {
   "display_name": "Python 3",
   "language": "python",
   "name": "python3"
  },
  "language_info": {
   "codemirror_mode": {
    "name": "ipython",
    "version": 3
   },
   "file_extension": ".py",
   "mimetype": "text/x-python",
   "name": "python",
   "nbconvert_exporter": "python",
   "pygments_lexer": "ipython3",
   "version": "3.12.3"
  }
 },
 "nbformat": 4,
 "nbformat_minor": 2
}
